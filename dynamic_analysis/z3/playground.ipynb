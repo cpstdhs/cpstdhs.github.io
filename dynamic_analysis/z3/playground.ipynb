{
 "cells": [
  {
   "cell_type": "code",
   "execution_count": 1,
   "metadata": {},
   "outputs": [],
   "source": [
    "from z3 import *"
   ]
  },
  {
   "cell_type": "code",
   "execution_count": 2,
   "metadata": {},
   "outputs": [
    {
     "name": "stdout",
     "output_type": "stream",
     "text": [
      "[y = 0, x = 7]\n"
     ]
    }
   ],
   "source": [
    "x = Int('x')\n",
    "y = Int('y')\n",
    "solve(x > 2, y < 10, x + 2*y == 7)"
   ]
  },
  {
   "cell_type": "code",
   "execution_count": 3,
   "metadata": {},
   "outputs": [
    {
     "name": "stdout",
     "output_type": "stream",
     "text": [
      "num args:  2\n",
      "children:  [x + y, 3]\n",
      "1st child: x + y\n",
      "2nd child: 3\n",
      "operator:  >=\n",
      "op name:  >=\n"
     ]
    }
   ],
   "source": [
    "x = Int('x')\n",
    "y = Int('y')\n",
    "n = x + y >= 3\n",
    "print (\"num args: \", n.num_args())\n",
    "print (\"children: \", n.children())\n",
    "print (\"1st child:\", n.arg(0))\n",
    "print (\"2nd child:\", n.arg(1))\n",
    "print (\"operator: \", n.decl())\n",
    "print (\"op name: \", n.decl().name())"
   ]
  },
  {
   "cell_type": "code",
   "execution_count": 4,
   "metadata": {
    "slideshow": {
     "slide_type": "skip"
    },
    "tags": [
     "parameters"
    ]
   },
   "outputs": [
    {
     "name": "stdout",
     "output_type": "stream",
     "text": [
      "[y = -1.1885280594?, x = 1.2599210498?]\n",
      "Solving, and displaying result with 30 decimal places\n",
      "[y = -1.188528059421316533710369365015?,\n",
      " x = 1.259921049894873164767210607278?]\n"
     ]
    }
   ],
   "source": [
    "x = Real('x')\n",
    "y = Real('y')\n",
    "\n",
    "solve(x**2 + y**2 == 3, x**3 == 2)\n",
    "set_option(precision=30)\n",
    "print(\"Solving, and displaying result with 30 decimal places\")\n",
    "solve(x**2 + y**2 == 3, x**3 == 2)"
   ]
  },
  {
   "cell_type": "code",
   "execution_count": 5,
   "metadata": {},
   "outputs": [
    {
     "name": "stdout",
     "output_type": "stream",
     "text": [
      "0.3333333333333333\n",
      "1/3\n",
      "1/3\n",
      "x + 3333333333333333/10000000000000000\n",
      "x + 1/3\n",
      "x + 1/3\n",
      "x + 1/4\n"
     ]
    }
   ],
   "source": [
    "print (1/3)\n",
    "print (RealVal(1)/3)\n",
    "print (Q(1,3))\n",
    "x = Real('x')\n",
    "print (x + 1/3)\n",
    "print (x + Q(1,3))\n",
    "print (x + \"1/3\")\n",
    "print (x + 0.25)"
   ]
  },
  {
   "cell_type": "code",
   "execution_count": 6,
   "metadata": {},
   "outputs": [
    {
     "name": "stdout",
     "output_type": "stream",
     "text": [
      "[x = 1/3]\n",
      "[x = 0.333333333333333333333333333333?]\n",
      "[x = 0.333333333333333333333333333333?]\n"
     ]
    }
   ],
   "source": [
    "x = Real('x')\n",
    "solve(3*x == 1)\n",
    "set_option(rational_to_decimal=True)\n",
    "solve(3*x == 1)\n",
    "set_option(precision=30)\n",
    "solve(3*x == 1)"
   ]
  },
  {
   "cell_type": "code",
   "execution_count": 7,
   "metadata": {},
   "outputs": [
    {
     "name": "stdout",
     "output_type": "stream",
     "text": [
      "[q = True, p = False, r = False]\n"
     ]
    }
   ],
   "source": [
    "p = Bool('p')\n",
    "q = Bool('q')\n",
    "r = Bool('r')\n",
    "solve(Implies(p, q), r == Not(q), Or(Not(p), r))"
   ]
  },
  {
   "cell_type": "code",
   "execution_count": 8,
   "metadata": {},
   "outputs": [
    {
     "name": "stdout",
     "output_type": "stream",
     "text": [
      "And(p, q, True)\n",
      "And(p, q)\n",
      "False\n"
     ]
    }
   ],
   "source": [
    "p = Bool('p')\n",
    "q = Bool('q')\n",
    "print (And(p, q, True))\n",
    "print (simplify(And(p, q, True)))\n",
    "print (simplify(And(p, False)))"
   ]
  },
  {
   "cell_type": "code",
   "execution_count": 9,
   "metadata": {},
   "outputs": [
    {
     "name": "stdout",
     "output_type": "stream",
     "text": [
      "[x = -1.414213562373095048801688724209?, p = False]\n"
     ]
    }
   ],
   "source": [
    "p = Bool('p')\n",
    "x = Real('x')\n",
    "solve(Or(x < 5, x > 10), Or(p, x**2 == 2), Not(p))"
   ]
  },
  {
   "cell_type": "code",
   "execution_count": 10,
   "metadata": {},
   "outputs": [
    {
     "name": "stdout",
     "output_type": "stream",
     "text": [
      "[]\n",
      "[x > 10, y == x + 2]\n",
      "Solving constraints in the solver s ...\n",
      "sat\n",
      "Create a new scope...\n",
      "[x > 10, y == x + 2, y < 11]\n",
      "Solving updated set of constraints...\n",
      "unsat\n",
      "Restoring state...\n",
      "[x > 10, y == x + 2]\n",
      "Solving restored set of constraints...\n",
      "sat\n"
     ]
    },
    {
     "data": {
      "text/html": [
       "[x = 11, y = 13]"
      ],
      "text/plain": [
       "[x = 11, y = 13]"
      ]
     },
     "execution_count": 10,
     "metadata": {},
     "output_type": "execute_result"
    }
   ],
   "source": [
    "x = Int('x')\n",
    "y = Int('y')\n",
    "s = Solver()\n",
    "print (s)\n",
    "s.add(x > 10, y == x + 2)\n",
    "print (s)\n",
    "print (\"Solving constraints in the solver s ...\")\n",
    "print (s.check())\n",
    "print (\"Create a new scope...\")\n",
    "s.push()\n",
    "s.add(y < 11)\n",
    "print (s)\n",
    "print (\"Solving updated set of constraints...\")\n",
    "print (s.check())\n",
    "print (\"Restoring state...\")\n",
    "s.pop()\n",
    "print (s)\n",
    "print (\"Solving restored set of constraints...\")\n",
    "print (s.check())\n",
    "\n",
    "s.model()"
   ]
  },
  {
   "cell_type": "code",
   "execution_count": 11,
   "metadata": {},
   "outputs": [
    {
     "name": "stdout",
     "output_type": "stream",
     "text": [
      "unknown\n"
     ]
    }
   ],
   "source": [
    "x = Real('x')\n",
    "s = Solver()\n",
    "s.add(2**x == 3)\n",
    "print (s.check())"
   ]
  },
  {
   "cell_type": "code",
   "execution_count": 12,
   "metadata": {},
   "outputs": [
    {
     "name": "stdout",
     "output_type": "stream",
     "text": [
      "asserted constraints...\n",
      "x > 1\n",
      "y > 1\n",
      "Or(x + y > 3, x - y < 2)\n",
      "sat\n",
      "statistics for the last check method...\n",
      "decisions  :  2\n",
      "final checks  :  1\n",
      "mk clause binary  :  1\n",
      "num checks  :  1\n",
      "mk bool var  :  4\n",
      "arith-upper  :  4\n",
      "arith-make-feasible  :  3\n",
      "arith-max-columns  :  8\n",
      "arith-max-rows  :  2\n",
      "num allocs  :  111449995\n",
      "rlimit count  :  4543\n",
      "max memory  :  19.58\n",
      "memory  :  19.27\n",
      "time  :  0.011\n",
      "[y = 3/2, x = 2]\n"
     ]
    }
   ],
   "source": [
    "x = Real('x')\n",
    "y = Real('y')\n",
    "s = Solver()\n",
    "s.add(x > 1, y > 1, Or(x + y > 3, x - y < 2))\n",
    "print(\"asserted constraints...\")\n",
    "for c in s.assertions():\n",
    " print(c)\n",
    "print(s.check())\n",
    "print(\"statistics for the last check method...\")\n",
    "# print(s.statistics())\n",
    "# Traversing statistics\n",
    "for k, v in s.statistics():\n",
    " print (k, \" : \", v)\n",
    "print(s.model())"
   ]
  },
  {
   "cell_type": "code",
   "execution_count": 13,
   "metadata": {},
   "outputs": [
    {
     "name": "stdout",
     "output_type": "stream",
     "text": [
      "sat\n",
      "x = 3/2\n",
      "traversing model...\n",
      "y = 2\n",
      "x = 3/2\n",
      "z = 0\n"
     ]
    }
   ],
   "source": [
    "x, y, z = Reals('x y z')\n",
    "s = Solver()\n",
    "s.add(x > 1, y > 1, x + y > 3, z - x < 10)\n",
    "print (s.check())\n",
    "m = s.model()\n",
    "print (\"x = %s\" % m[x])\n",
    "print (\"traversing model...\")\n",
    "for d in m.decls():\n",
    " print (\"%s = %s\" % (d.name(), m[d]))"
   ]
  },
  {
   "cell_type": "code",
   "execution_count": 15,
   "metadata": {},
   "outputs": [
    {
     "name": "stdout",
     "output_type": "stream",
     "text": [
      "x + ToReal(y) + 1 + a + ToReal(s)\n",
      "ToReal(y) + c\n"
     ]
    }
   ],
   "source": [
    "x = Real('x')\n",
    "y = Int('y')\n",
    "\n",
    "a, b, c = Reals('a b c')\n",
    "s, r = Ints('s r')\n",
    "print (x + y + 1 + (a + s))\n",
    "print (ToReal(y) + c)"
   ]
  },
  {
   "cell_type": "code",
   "execution_count": 29,
   "metadata": {},
   "outputs": [
    {
     "name": "stdout",
     "output_type": "stream",
     "text": [
      "x*x*x + 3*x*x*y + 3*x*y*y + y*y*y\n",
      "x**3 + 3*x**2*y + 3*x*y**2 + y**3\n"
     ]
    }
   ],
   "source": [
    "x, y = Reals('x y')\n",
    "# Put expression in sum-of-monomials form\n",
    "t = simplify((x + y)**3, som=True)\n",
    "print(t)\n",
    "# Use power operator\n",
    "t = simplify(t, mul_to_power=True)\n",
    "print(t)"
   ]
  },
  {
   "cell_type": "code",
   "execution_count": 33,
   "metadata": {},
   "outputs": [
    {
     "name": "stdout",
     "output_type": "stream",
     "text": [
      "x + -1*y == 2\n",
      "x + -1*y == 2\n",
      "\n",
      "All available options:\n",
      "algebraic_number_evaluator (bool) simplify/evaluate expressions containing (algebraic) irrational numbers. (default: true)\n",
      "arith_ineq_lhs (bool) rewrite inequalities so that right-hand-side is a constant. (default: false)\n",
      "arith_lhs (bool) all monomials are moved to the left-hand-side, and the right-hand-side is just a constant. (default: false)\n",
      "bit2bool (bool) try to convert bit-vector terms of size 1 into Boolean terms (default: true)\n",
      "blast_distinct (bool) expand a distinct predicate into a quadratic number of disequalities (default: false)\n",
      "blast_distinct_threshold (unsigned int) when blast_distinct is true, only distinct expressions with less than this number of arguments are blasted (default: 4294967295)\n",
      "blast_eq_value (bool) blast (some) Bit-vector equalities into bits (default: false)\n",
      "blast_select_store (bool) eagerly replace all (select (store ..) ..) term by an if-then-else term (default: false)\n",
      "bv_extract_prop (bool) attempt to partially propagate extraction inwards (default: false)\n",
      "bv_ineq_consistency_test_max (unsigned int) max size of conjunctions on which to perform consistency test based on inequalities on bitvectors. (default: 0)\n",
      "bv_ite2id (bool) rewrite ite that can be simplified to identity (default: false)\n",
      "bv_le2extract (bool) disassemble bvule to extract (default: true)\n",
      "bv_le_extra (bool) additional bu_(u/s)le simplifications (default: false)\n",
      "bv_not_simpl (bool) apply simplifications for bvnot (default: false)\n",
      "bv_sort_ac (bool) sort the arguments of all AC operators (default: false)\n",
      "cache_all (bool) cache all intermediate results. (default: false)\n",
      "elim_and (bool) conjunctions are rewritten using negation and disjunctions (default: false)\n",
      "elim_ite (bool) eliminate ite in favor of and/or (default: true)\n",
      "elim_rem (bool) replace (rem x y) with (ite (>= y 0) (mod x y) (- (mod x y))). (default: false)\n",
      "elim_sign_ext (bool) expand sign-ext operator using concat and extract (default: true)\n",
      "elim_to_real (bool) eliminate to_real from arithmetic predicates that contain only integers. (default: false)\n",
      "eq2ineq (bool) expand equalities into two inequalities (default: false)\n",
      "expand_nested_stores (bool) replace nested stores by a lambda expression (default: false)\n",
      "expand_power (bool) expand (^ t k) into (* t ... t) if  1 < k <= max_degree. (default: false)\n",
      "expand_select_ite (bool) expand select over ite expressions (default: false)\n",
      "expand_select_store (bool) conservatively replace a (select (store ...) ...) term by an if-then-else term (default: false)\n",
      "expand_store_eq (bool) reduce (store ...) = (store ...) with a common base into selects (default: false)\n",
      "expand_tan (bool) replace (tan x) with (/ (sin x) (cos x)). (default: false)\n",
      "flat (bool) create nary applications for and,or,+,*,bvadd,bvmul,bvand,bvor,bvxor (default: true)\n",
      "gcd_rounding (bool) use gcd rounding on integer arithmetic atoms. (default: false)\n",
      "hi_div0 (bool) use the 'hardware interpretation' for division by zero (for bit-vector terms) (default: true)\n",
      "hoist_ite (bool) hoist shared summands under ite expressions (default: false)\n",
      "hoist_mul (bool) hoist multiplication over summation to minimize number of multiplications (default: false)\n",
      "ignore_patterns_on_ground_qbody (bool) ignores patterns on quantifiers that don't mention their bound variables. (default: true)\n",
      "ite_extra_rules (bool) extra ite simplifications, these additional simplifications may reduce size locally but increase globally (default: false)\n",
      "local_ctx (bool) perform local (i.e., cheap) context simplifications (default: false)\n",
      "local_ctx_limit (unsigned int) limit for applying local context simplifier (default: 4294967295)\n",
      "max_degree (unsigned int) max degree of algebraic numbers (and power operators) processed by simplifier. (default: 64)\n",
      "max_memory (unsigned int) maximum amount of memory in megabytes (default: 4294967295)\n",
      "max_steps (unsigned int) maximum number of steps (default: 4294967295)\n",
      "mul2concat (bool) replace multiplication by a power of two into a concatenation (default: false)\n",
      "mul_to_power (bool) collpase (* t ... t) into (^ t k), it is ignored if expand_power is true. (default: false)\n",
      "pull_cheap_ite (bool) pull if-then-else terms when cheap. (default: false)\n",
      "push_ite_arith (bool) push if-then-else over arithmetic terms. (default: false)\n",
      "push_ite_bv (bool) push if-then-else over bit-vector terms. (default: false)\n",
      "push_to_real (bool) distribute to_real over * and +. (default: true)\n",
      "rewrite_patterns (bool) rewrite patterns. (default: false)\n",
      "som (bool) put polynomials in sum-of-monomials form (default: false)\n",
      "som_blowup (unsigned int) maximum increase of monomials generated when putting a polynomial in sum-of-monomials normal form (default: 10)\n",
      "sort_store (bool) sort nested stores when the indices are known to be different (default: false)\n",
      "sort_sums (bool) sort the arguments of + application. (default: false)\n",
      "split_concat_eq (bool) split equalities of the form (= (concat t1 t2) t3) (default: false)\n",
      "\n"
     ]
    }
   ],
   "source": [
    "x, y = Reals('x y')\n",
    "# Using Z3 native option names\n",
    "print (simplify(x == y + 2, ':arith-lhs', True))\n",
    "# Using Z3Py option names\n",
    "print (simplify(x == y + 2, arith_lhs=True))\n",
    "print (\"\\nAll available options:\")\n",
    "help_simplify()"
   ]
  },
  {
   "cell_type": "code",
   "execution_count": 38,
   "metadata": {},
   "outputs": [
    {
     "name": "stdout",
     "output_type": "stream",
     "text": [
      "[y = 20000000000000001, x = -9999979999999999999999]\n",
      "2**(1/2) + 3**(1/2)\n",
      "3.1462643699?\n",
      "(root-obj (+ (^ x 4) (* (- 10) (^ x 2)) 1) 4)\n",
      "(+ x (* (^ y (/ 1.0 2.0)) 2.0))\n",
      "(^ 2.0 (/ 1.0 2.0))\n"
     ]
    }
   ],
   "source": [
    "x, y = Reals('x y')\n",
    "solve(x + 10000000000000000000000 == y, y >\n",
    "20000000000000000)\n",
    "print (Sqrt(2) + Sqrt(3))\n",
    "print (simplify(Sqrt(2) + Sqrt(3)))\n",
    "print (simplify(Sqrt(2) + Sqrt(3)).sexpr())\n",
    "# The sexpr() method is available for any Z3 expression\n",
    "print ((x + Sqrt(y) * 2).sexpr())"
   ]
  },
  {
   "cell_type": "code",
   "execution_count": 39,
   "metadata": {},
   "outputs": [
    {
     "name": "stdout",
     "output_type": "stream",
     "text": [
      "x + 2\n",
      "(bvadd x #x0002)\n",
      "65535 + x + y\n",
      "True\n",
      "False\n"
     ]
    }
   ],
   "source": [
    "x = BitVec('x', 16)\n",
    "y = BitVec('y', 16)\n",
    "print (x + 2)\n",
    "# Internal representation\n",
    "print ((x + 2).sexpr())\n",
    "# -1 is equal to 65535 for 16-bit integers \n",
    "print (simplify(x + y - 1))\n",
    "# Creating bit-vector constants\n",
    "a = BitVecVal(-1, 16)\n",
    "b = BitVecVal(65535, 16)\n",
    "print (simplify(a == b))\n",
    "a = BitVecVal(-1, 32)\n",
    "b = BitVecVal(65535, 32)\n",
    "# -1 is not equal to 65535 for 32-bit integers \n",
    "print (simplify(a == b))"
   ]
  },
  {
   "cell_type": "code",
   "execution_count": 51,
   "metadata": {},
   "outputs": [
    {
     "name": "stdout",
     "output_type": "stream",
     "text": [
      "[y = 1, x = 1]\n",
      "[x = 0, y = 4294967295]\n",
      "[x = 4294967295]\n",
      "no solution\n",
      "[x = 12]\n",
      "no solution\n",
      "[x = 6]\n"
     ]
    }
   ],
   "source": [
    "x, y = BitVecs('x y', 32)\n",
    "\n",
    "solve(x + y == 2, x > 0, y > 0)\n",
    "# Bit-wise operators\n",
    "# & bit-wise and\n",
    "# | bit-wise or\n",
    "# ~ bit-wise not\n",
    "solve(x & y == ~y)\n",
    "solve(x < 0)\n",
    "# using unsigned version of < \n",
    "solve(ULT(x, 0))\n",
    "\n",
    "solve(x >> 2 == 3)\n",
    "solve(x << 2 == 3)\n",
    "solve(x << 2 == 24)"
   ]
  },
  {
   "cell_type": "code",
   "execution_count": 74,
   "metadata": {},
   "outputs": [
    {
     "name": "stdout",
     "output_type": "stream",
     "text": [
      "[x = 0, y = 1, f = [1 -> 0, else -> 1]]\n"
     ]
    }
   ],
   "source": [
    "x = Int('x')\n",
    "y = Int('y')\n",
    "f = Function('f', IntSort(), IntSort())\n",
    "solve(f(f(x)) == x, f(x) == y, x != y)"
   ]
  },
  {
   "cell_type": "code",
   "execution_count": 56,
   "metadata": {},
   "outputs": [
    {
     "name": "stdout",
     "output_type": "stream",
     "text": [
      "sat\n",
      "f(f(x)) = 0\n",
      "f(x) = 1\n"
     ]
    }
   ],
   "source": [
    "x = Int('x')\n",
    "y = Int('y')\n",
    "\n",
    "f = Function('f', IntSort(), IntSort())\n",
    "s = Solver()\n",
    "s.add(f(f(x)) == x, f(x) == y, x != y)\n",
    "print (s.check())\n",
    "m = s.model()\n",
    "print (\"f(f(x)) =\", m.evaluate(f(f(x))))\n",
    "print (\"f(x) =\", m.evaluate(f(x)))"
   ]
  },
  {
   "cell_type": "code",
   "execution_count": 81,
   "metadata": {},
   "outputs": [
    {
     "name": "stdout",
     "output_type": "stream",
     "text": [
      "And(p, q) == Not(Or(Not(p), Not(q)))\n",
      "Proving demorgan...\n",
      "proved\n"
     ]
    }
   ],
   "source": [
    "p, q = Bools('p q')\n",
    "demorgan = And(p, q) == Not(Or(Not(p), Not(q)))\n",
    "\n",
    "print (demorgan)\n",
    "def prove(f):\n",
    " s = Solver()\n",
    " s.add(Not(f))\n",
    " if s.check() == unsat:\n",
    "    print (\"proved\")\n",
    " else:\n",
    "    print (\"failed to prove\")\n",
    "print (\"Proving demorgan...\")\n",
    "prove(demorgan)"
   ]
  },
  {
   "cell_type": "code",
   "execution_count": 68,
   "metadata": {},
   "outputs": [
    {
     "name": "stdout",
     "output_type": "stream",
     "text": [
      "[x0, x1, x2, x3, x4]\n",
      "[x0 + y0, x1 + y1, x2 + y2, x3 + y3, x4 + y4]\n",
      "[x0 > y0, x1 > y1, x2 > y2, x3 > y3, x4 > y4]\n",
      "And(x0 > y0, x1 > y1, x2 > y2, x3 > y3, x4 > y4)\n",
      "[[x_1_1, x_1_2, x_1_3],\n",
      " [x_2_1, x_2_2, x_2_3],\n",
      " [x_3_1, x_3_2, x_3_3]]\n"
     ]
    }
   ],
   "source": [
    "# Create two lists containg 5 integer variables\n",
    "X = [ Int('x%s' % i) for i in range(5) ]\n",
    "Y = [ Int('y%s' % i) for i in range(5) ]\n",
    "print (X)\n",
    "# Create a list containing X[i]+Y[i]\n",
    "X_plus_Y = [ X[i] + Y[i] for i in range(5) ]\n",
    "print (X_plus_Y)\n",
    "# Create a list containing X[i] > Y[i]\n",
    "X_gt_Y = [ X[i] > Y[i] for i in range(5) ]\n",
    "print (X_gt_Y)\n",
    "print (And(X_gt_Y))\n",
    "# Create a 3x3 \"matrix\" (list of lists) of integer variables\n",
    "X = [ [ Int(\"x_%s_%s\" % (i+1, j+1)) for j in range(3) ]\n",
    " for i in range(3) ]\n",
    "pp(X)"
   ]
  },
  {
   "cell_type": "code",
   "execution_count": 69,
   "metadata": {},
   "outputs": [
    {
     "name": "stdout",
     "output_type": "stream",
     "text": [
      "[x__0, x__1, x__2, x__3, x__4]\n",
      "[y__0, y__1, y__2, y__3, y__4]\n",
      "[p__0, p__1, p__2, p__3, p__4]\n",
      "[y__0**2, y__1**2, y__2**2, y__3**2, y__4**2]\n",
      "y__0**2 + y__1**2 + y__2**2 + y__3**2 + y__4**2\n"
     ]
    }
   ],
   "source": [
    "X = IntVector('x', 5)\n",
    "Y = IntVector('y', 5)\n",
    "P = BoolVector('p', 5)\n",
    "print (X)\n",
    "print (Y)\n",
    "print (P)\n",
    "print ([ y**2 for y in Y ])\n",
    "print (Sum([ y**2 for y in Y ]))"
   ]
  },
  {
   "cell_type": "code",
   "execution_count": 75,
   "metadata": {},
   "outputs": [
    {
     "name": "stdout",
     "output_type": "stream",
     "text": [
      "Kinematic equations:\n",
      "[d == v__i*t + (a*t**2)/2, v__f == v__i + a*t]\n",
      "Problem:\n",
      "[v__i == 30, v__f == 0, a == -8]\n",
      "Solution:\n",
      "[a = -8, v__f = 0, v__i = 30, t = 15/4, d = 225/4]\n"
     ]
    }
   ],
   "source": [
    "d, a, t, v_i, v_f = Reals('d a t v__i v__f')\n",
    "equations = [\n",
    " d == v_i * t + (a*t**2)/2,\n",
    " v_f == v_i + a*t,\n",
    "]\n",
    "print (\"Kinematic equations:\")\n",
    "print (equations)\n",
    "# Given v_i, v_f and a, find d\n",
    "problem = [\n",
    " v_i == 30,\n",
    " v_f == 0,\n",
    " a == -8\n",
    "]\n",
    "print (\"Problem:\")\n",
    "print (problem)\n",
    "print (\"Solution:\")\n",
    "solve(equations + problem)"
   ]
  },
  {
   "cell_type": "code",
   "execution_count": 77,
   "metadata": {},
   "outputs": [
    {
     "name": "stdout",
     "output_type": "stream",
     "text": [
      "[z = True,\n",
      " b = True,\n",
      " g = False,\n",
      " d = True,\n",
      " f = True,\n",
      " c = True,\n",
      " a = True,\n",
      " e = False]\n"
     ]
    }
   ],
   "source": [
    "def DependsOn(pack, deps):\n",
    " return And([ Implies(pack, dep) for dep in deps ])\n",
    " \n",
    "def Conflict(p1, p2):\n",
    " return Or(Not(p1), Not(p2))\n",
    "a, b, c, d, e, f, g, z = Bools('a b c d e f g z')\n",
    "solve(DependsOn(a, [b, c, z]),\n",
    " DependsOn(b, [d]),\n",
    " DependsOn(c, [Or(d, e), Or(f, g)]),\n",
    " Conflict(d, e),\n",
    " a, z)"
   ]
  }
 ],
 "metadata": {
  "kernelspec": {
   "display_name": "Python 3.9.13 64-bit",
   "language": "python",
   "name": "python3"
  },
  "language_info": {
   "codemirror_mode": {
    "name": "ipython",
    "version": 3
   },
   "file_extension": ".py",
   "mimetype": "text/x-python",
   "name": "python",
   "nbconvert_exporter": "python",
   "pygments_lexer": "ipython3",
   "version": "3.9.13"
  },
  "orig_nbformat": 4,
  "vscode": {
   "interpreter": {
    "hash": "81794d4967e6c3204c66dcd87b604927b115b27c00565d3d43f05ba2f3a2cb0d"
   }
  }
 },
 "nbformat": 4,
 "nbformat_minor": 2
}
